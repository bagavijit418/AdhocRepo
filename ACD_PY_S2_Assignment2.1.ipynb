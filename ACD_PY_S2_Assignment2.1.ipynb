{
 "cells": [
  {
   "cell_type": "markdown",
   "metadata": {},
   "source": [
    "Question: Write a program which accepts a sequence of comma-separated numbers from console\n",
    "and generate a list."
   ]
  },
  {
   "cell_type": "code",
   "execution_count": 1,
   "metadata": {},
   "outputs": [
    {
     "name": "stdout",
     "output_type": "stream",
     "text": [
      "Enter String in comma seperated fornmatq,w1,2,6,y\n",
      "You have entered q,w1,2,6,y\n",
      "Your String converted to a list as follows \n",
      "\n",
      "['q', 'w1', '2', '6', 'y']\n"
     ]
    }
   ],
   "source": [
    "#read input\n",
    "User_Input=input(\"Enter String in comma seperated fornmat\")\n",
    "print(\"You have entered %s\"% User_Input)\n",
    "Input_List =User_Input.split(\",\")\n",
    "print(\"Your String converted to a list as follows \\n\")\n",
    "print(Input_List)"
   ]
  },
  {
   "cell_type": "code",
   "execution_count": null,
   "metadata": {},
   "outputs": [],
   "source": []
  }
 ],
 "metadata": {
  "kernelspec": {
   "display_name": "Python 3",
   "language": "python",
   "name": "python3"
  },
  "language_info": {
   "codemirror_mode": {
    "name": "ipython",
    "version": 3
   },
   "file_extension": ".py",
   "mimetype": "text/x-python",
   "name": "python",
   "nbconvert_exporter": "python",
   "pygments_lexer": "ipython3",
   "version": "3.6.4"
  }
 },
 "nbformat": 4,
 "nbformat_minor": 2
}
